{
 "cells": [
  {
   "cell_type": "code",
   "execution_count": 1,
   "metadata": {
    "pycharm": {
     "is_executing": false
    }
   },
   "outputs": [
    {
     "ename": "ModuleNotFoundError",
     "evalue": "No module named 'ANPR'",
     "output_type": "error",
     "traceback": [
      "\u001b[0;31m---------------------------------------------------------------------------\u001b[0m",
      "\u001b[0;31mModuleNotFoundError\u001b[0m                       Traceback (most recent call last)",
      "\u001b[0;32m<ipython-input-1-9b3ff15b991b>\u001b[0m in \u001b[0;36m<module>\u001b[0;34m\u001b[0m\n\u001b[0;32m----> 1\u001b[0;31m \u001b[0;32mfrom\u001b[0m \u001b[0mANPR\u001b[0m \u001b[0;32mimport\u001b[0m \u001b[0mANPR\u001b[0m\u001b[0;34m\u001b[0m\u001b[0;34m\u001b[0m\u001b[0m\n\u001b[0m\u001b[1;32m      2\u001b[0m \u001b[0;32mimport\u001b[0m \u001b[0mgradio\u001b[0m \u001b[0;32mas\u001b[0m \u001b[0mgr\u001b[0m\u001b[0;34m\u001b[0m\u001b[0;34m\u001b[0m\u001b[0m\n\u001b[1;32m      3\u001b[0m \u001b[0;32mimport\u001b[0m \u001b[0mimutils\u001b[0m\u001b[0;34m\u001b[0m\u001b[0;34m\u001b[0m\u001b[0m\n\u001b[1;32m      4\u001b[0m \u001b[0;32mimport\u001b[0m \u001b[0mcv2\u001b[0m\u001b[0;34m\u001b[0m\u001b[0;34m\u001b[0m\u001b[0m\n",
      "\u001b[0;31mModuleNotFoundError\u001b[0m: No module named 'ANPR'"
     ]
    }
   ],
   "source": [
    "from ANPR import ANPR\n",
    "import gradio as gr\n",
    "import imutils\n",
    "import cv2"
   ]
  },
  {
   "cell_type": "markdown",
   "metadata": {},
   "source": [
    "# Automatic License Plate Recognition\n",
    "\n",
    "In this notebook I will build a computer vision based system for the automatic\n",
    "recognition of license plate with the aim to build an automatic door system.\n",
    "\n",
    "All the CV operation is developed and explained in the _ANPR_ class, and in this notebook\n",
    "I will define how the interaction will be.\n",
    "\n",
    "I will use gradio to show the operation of the license plate recognition system"
   ]
  },
  {
   "cell_type": "code",
   "execution_count": 7,
   "metadata": {
    "pycharm": {
     "is_executing": false,
     "name": "#%%\n"
    }
   },
   "outputs": [
    {
     "name": "stdout",
     "output_type": "stream",
     "text": [
      "Running locally at: http://127.0.0.1:7862/\n",
      "To create a public link, set `share=True` in `launch()`.\n",
      "Interface loading below...\n"
     ]
    },
    {
     "data": {
      "text/html": [
       "\n",
       "        <iframe\n",
       "            width=\"900\"\n",
       "            height=\"500\"\n",
       "            src=\"http://127.0.0.1:7862/\"\n",
       "            frameborder=\"0\"\n",
       "            allowfullscreen\n",
       "        ></iframe>\n",
       "        "
      ],
      "text/plain": [
       "<IPython.lib.display.IFrame at 0x7fb94d1b81d0>"
      ]
     },
     "metadata": {},
     "output_type": "display_data"
    },
    {
     "data": {
      "text/plain": [
       "(<Flask 'gradio.networking'>, 'http://127.0.0.1:7862/', None)"
      ]
     },
     "execution_count": 7,
     "metadata": {},
     "output_type": "execute_result"
    }
   ],
   "source": [
    "def cleanup_text(text):\n",
    "\t# strip out non-ASCII text so we can draw the text on the image\n",
    "\t# using OpenCV\n",
    "\treturn \"\".join([c if ord(c) < 128 else \"\" for c in text]).strip()\n",
    "\n",
    "\n",
    "def plate_detection(img):\n",
    "  anpr = ANPR(debug=False)\n",
    "  img = imutils.resize(img, width=600)\n",
    "  lp_text, lp_cnt = anpr.find_and_ocr(img)\n",
    "  # only continue if the license plate was successfully OCR'd\n",
    "  if lp_text is not None and lp_cnt is not None:\n",
    "    # fit a rotated bounding box to the license plate contour and\n",
    "    # draw the bounding box on the license plate\n",
    "    box = cv2.boxPoints(cv2.minAreaRect(lp_cnt))\n",
    "    box = box.astype(\"int\")\n",
    "    cv2.drawContours(img, [box], -1, (0, 255, 0), 2)\n",
    "    # compute a normal (unrotated) bounding box for the license\n",
    "    # plate and then draw the OCR'd license plate text on the\n",
    "    # image\n",
    "    (x, y, w, h) = cv2.boundingRect(lp_cnt)\n",
    "    cv2.putText(img, cleanup_text(lp_text), (x, y - 15),\n",
    "        cv2.FONT_HERSHEY_SIMPLEX, 0.75, (0, 255, 0), 2)\n",
    "    # show the output ANPR image\n",
    "    print(\"[INFO] {}\".format(lp_text))\n",
    "    cv2.imshow(\"Output ANPR\", img)\n",
    "    cv2.waitKey(0)\n",
    "\n",
    "  return lp_text\n",
    "\n",
    "output_text = gr.outputs.Textbox()\n",
    "iface = gr.Interface(plate_detection, gr.inputs.Image(), \n",
    "                     outputs=output_text)\n",
    "iface.launch()\n"
   ]
  }
 ],
 "metadata": {
  "kernelspec": {
   "display_name": "data-science",
   "language": "python",
   "name": "data-science"
  },
  "language_info": {
   "codemirror_mode": {
    "name": "ipython",
    "version": 3
   },
   "file_extension": ".py",
   "mimetype": "text/x-python",
   "name": "python",
   "nbconvert_exporter": "python",
   "pygments_lexer": "ipython3",
   "version": "3.7.5"
  },
  "pycharm": {
   "stem_cell": {
    "cell_type": "raw",
    "metadata": {
     "collapsed": false
    },
    "source": []
   }
  }
 },
 "nbformat": 4,
 "nbformat_minor": 1
}
