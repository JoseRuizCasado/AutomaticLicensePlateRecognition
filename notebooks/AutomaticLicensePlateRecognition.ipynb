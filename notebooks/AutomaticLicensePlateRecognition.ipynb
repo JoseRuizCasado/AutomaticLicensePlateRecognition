{
 "cells": [
  {
   "cell_type": "code",
   "execution_count": 1,
   "metadata": {
    "collapsed": true,
    "pycharm": {
     "is_executing": false
    }
   },
   "outputs": [],
   "source": [
    "from ANPR import ANPR\n",
    "import gradio as gr\n",
    "import numpy as np"
   ]
  },
  {
   "cell_type": "markdown",
   "source": [
    "# Automatic License Plate Recognition\n",
    "\n",
    "In this notebook I will build a computer vision based system for the automatic\n",
    "recognition of license plate with the aim to build an automatic door system.\n",
    "\n",
    "All the CV operation is developed and explained in the _ANPR_ class, and in this notebook\n",
    "I will define how the interaction will be.\n",
    "\n",
    "I will use gradio to show the operation of the license plate recognition system"
   ],
   "metadata": {
    "collapsed": false
   }
  },
  {
   "cell_type": "code",
   "execution_count": 2,
   "outputs": [
    {
     "name": "stdout",
     "text": [
      "Running locally at: http://127.0.0.1:7860/\n",
      "To create a public link, set `share=True` in `launch()`.\n",
      "Interface loading below...\n"
     ],
     "output_type": "stream"
    },
    {
     "data": {
      "text/plain": "<IPython.lib.display.IFrame at 0x7fb94b740e50>",
      "text/html": "\n        <iframe\n            width=\"900\"\n            height=\"500\"\n            src=\"http://127.0.0.1:7860/\"\n            frameborder=\"0\"\n            allowfullscreen\n        ></iframe>\n        "
     },
     "metadata": {},
     "output_type": "display_data"
    },
    {
     "data": {
      "text/plain": "(<Flask 'gradio.networking'>, 'http://127.0.0.1:7860/', None)"
     },
     "metadata": {},
     "output_type": "execute_result",
     "execution_count": 2
    }
   ],
   "source": [
    "def sepia(img):\n",
    "  sepia_filter = np.array([[.393, .769, .189],\n",
    "                           [.349, .686, .168],\n",
    "                           [.272, .534, .131]])\n",
    "  sepia_img = img.dot(sepia_filter.T)\n",
    "  sepia_img /= sepia_img.max()                          \n",
    "  return sepia_img\n",
    "\n",
    "iface = gr.Interface(sepia, gr.inputs.Image(shape=(200, 200)), \"image\")\n",
    "iface.launch()\n"
   ],
   "metadata": {
    "collapsed": false,
    "pycharm": {
     "name": "#%%\n",
     "is_executing": false
    }
   }
  }
 ],
 "metadata": {
  "kernelspec": {
   "name": "pycharm-b17394a8",
   "language": "python",
   "display_name": "PyCharm (ImageCompressionKMeans)"
  },
  "language_info": {
   "codemirror_mode": {
    "name": "ipython",
    "version": 2
   },
   "file_extension": ".py",
   "mimetype": "text/x-python",
   "name": "python",
   "nbconvert_exporter": "python",
   "pygments_lexer": "ipython2",
   "version": "2.7.6"
  },
  "pycharm": {
   "stem_cell": {
    "cell_type": "raw",
    "source": [],
    "metadata": {
     "collapsed": false
    }
   }
  }
 },
 "nbformat": 4,
 "nbformat_minor": 0
}