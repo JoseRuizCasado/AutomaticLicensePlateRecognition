{
 "cells": [
  {
   "cell_type": "code",
   "execution_count": 4,
   "metadata": {
    "collapsed": true,
    "pycharm": {
     "is_executing": false
    }
   },
   "outputs": [],
   "source": [
    "from ANPR import ANPR\n",
    "import gradio as gr\n",
    "import imutils\n",
    "import cv2"
   ]
  },
  {
   "cell_type": "markdown",
   "source": [
    "# Automatic License Plate Recognition\n",
    "\n",
    "In this notebook I will build a computer vision based system for the automatic\n",
    "recognition of license plate with the aim to build an automatic door system.\n",
    "\n",
    "All the CV operation is developed and explained in the _ANPR_ class, and in this notebook\n",
    "I will define how the interaction will be.\n",
    "\n",
    "I will use gradio to show the operation of the license plate recognition system"
   ],
   "metadata": {
    "collapsed": false
   }
  },
  {
   "cell_type": "code",
   "execution_count": 5,
   "outputs": [
    {
     "name": "stdout",
     "text": [
      "Running locally at: http://127.0.0.1:7861/\n",
      "To create a public link, set `share=True` in `launch()`.\n",
      "Interface loading below...\n"
     ],
     "output_type": "stream"
    },
    {
     "data": {
      "text/plain": "<IPython.lib.display.IFrame at 0x7fb94ceba090>",
      "text/html": "\n        <iframe\n            width=\"900\"\n            height=\"500\"\n            src=\"http://127.0.0.1:7861/\"\n            frameborder=\"0\"\n            allowfullscreen\n        ></iframe>\n        "
     },
     "metadata": {},
     "output_type": "display_data"
    },
    {
     "data": {
      "text/plain": "(<Flask 'gradio.networking'>, 'http://127.0.0.1:7861/', None)"
     },
     "metadata": {},
     "output_type": "execute_result",
     "execution_count": 5
    }
   ],
   "source": [
    "def cleanup_text(text):\n",
    "\t# strip out non-ASCII text so we can draw the text on the image\n",
    "\t# using OpenCV\n",
    "\treturn \"\".join([c if ord(c) < 128 else \"\" for c in text]).strip()\n",
    "\n",
    "\n",
    "def plate_detection(img):\n",
    "  anpr = ANPR(debug=False)\n",
    "  img = imutils.resize(img, width=600)\n",
    "  lp_text, lp_cnt = anpr.find_and_ocr(img)\n",
    "  # only continue if the license plate was successfully OCR'd\n",
    "  if lp_text is not None and lp_cnt is not None:\n",
    "    # fit a rotated bounding box to the license plate contour and\n",
    "    # draw the bounding box on the license plate\n",
    "    box = cv2.boxPoints(cv2.minAreaRect(lp_cnt))\n",
    "    box = box.astype(\"int\")\n",
    "    cv2.drawContours(img, [box], -1, (0, 255, 0), 2)\n",
    "    # compute a normal (unrotated) bounding box for the license\n",
    "    # plate and then draw the OCR'd license plate text on the\n",
    "    # image\n",
    "    (x, y, w, h) = cv2.boundingRect(lp_cnt)\n",
    "    cv2.putText(img, cleanup_text(lp_text), (x, y - 15),\n",
    "        cv2.FONT_HERSHEY_SIMPLEX, 0.75, (0, 255, 0), 2)\n",
    "    # show the output ANPR image\n",
    "    print(\"[INFO] {}\".format(lp_text))\n",
    "    cv2.imshow(\"Output ANPR\", img)\n",
    "    cv2.waitKey(0)\n",
    "\n",
    "  return lp_text\n",
    "\n",
    "output_text = gr.outputs.Textbox()\n",
    "iface = gr.Interface(plate_detection, gr.inputs.Image(), \n",
    "                     outputs=output_text)\n",
    "iface.launch()\n"
   ],
   "metadata": {
    "collapsed": false,
    "pycharm": {
     "name": "#%%\n",
     "is_executing": false
    }
   }
  }
 ],
 "metadata": {
  "kernelspec": {
   "name": "pycharm-b17394a8",
   "language": "python",
   "display_name": "PyCharm (ImageCompressionKMeans)"
  },
  "language_info": {
   "codemirror_mode": {
    "name": "ipython",
    "version": 2
   },
   "file_extension": ".py",
   "mimetype": "text/x-python",
   "name": "python",
   "nbconvert_exporter": "python",
   "pygments_lexer": "ipython2",
   "version": "2.7.6"
  },
  "pycharm": {
   "stem_cell": {
    "cell_type": "raw",
    "source": [],
    "metadata": {
     "collapsed": false
    }
   }
  }
 },
 "nbformat": 4,
 "nbformat_minor": 0
}